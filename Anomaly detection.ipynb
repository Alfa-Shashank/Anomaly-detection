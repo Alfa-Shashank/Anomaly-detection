{
 "cells": [
  {
   "cell_type": "code",
   "execution_count": null,
   "metadata": {
    "colab": {
     "base_uri": "https://localhost:8080/"
    },
    "executionInfo": {
     "elapsed": 33184,
     "status": "ok",
     "timestamp": 1606207333020,
     "user": {
      "displayName": "S.N Shashank",
      "photoUrl": "",
      "userId": "18095843714123599333"
     },
     "user_tz": -330
    },
    "id": "NvQ9kU5FOCqj",
    "outputId": "385fd3be-9cc5-4013-acd6-4ed9b6d78b82"
   },
   "outputs": [],
   "source": [
    " "
   ]
  },
  {
   "cell_type": "code",
   "execution_count": 1,
   "metadata": {
    "executionInfo": {
     "elapsed": 5297,
     "status": "ok",
     "timestamp": 1606207342032,
     "user": {
      "displayName": "S.N Shashank",
      "photoUrl": "",
      "userId": "18095843714123599333"
     },
     "user_tz": -330
    },
    "id": "l9jx7gbpL6v4"
   },
   "outputs": [],
   "source": [
    "import cv2\n",
    "import os\n",
    "import random\n",
    "import pickle\n",
    "import numpy as np\n",
    "import matplotlib.pyplot as plt\n",
    "%matplotlib inline\n",
    "from sklearn.model_selection import train_test_split\n",
    "import tensorflow as tf\n",
    "from tensorflow import keras\n",
    "from tensorflow.keras.preprocessing.image import ImageDataGenerator\n",
    "from tensorflow.keras.applications import Xception\n",
    "from tensorflow.keras.layers import Input,AveragePooling2D,Dropout,Flatten,Dense,BatchNormalization\n",
    "from tensorflow.keras.models import Model\n",
    "from tensorflow.keras.optimizers import Adam\n",
    "from sklearn.preprocessing import LabelBinarizer\n",
    "from sklearn.metrics import classification_report\n",
    "import datetime\n",
    "import time"
   ]
  },
  {
   "cell_type": "code",
   "execution_count": 9,
   "metadata": {
    "id": "KWMJz6TkU7kH"
   },
   "outputs": [],
   "source": []
  },
  {
   "cell_type": "code",
   "execution_count": 11,
   "metadata": {
    "executionInfo": {
     "elapsed": 479260,
     "status": "ok",
     "timestamp": 1606118177525,
     "user": {
      "displayName": "S.N Shashank",
      "photoUrl": "",
      "userId": "18095843714123599333"
     },
     "user_tz": -330
    },
    "id": "W2zfhZm1L6v-"
   },
   "outputs": [],
   "source": [
    "datadir = \"C:\\\\Users\\\\snsha\\\\Anaconda3\\\\anaconda\\\\envs\\\\tensor-flow\\\\Anomaly detection\\\\Dataset\"\n",
    "cat = [\"Non-violence\", \"Violence\"]\n",
    "training_data = []\n",
    "for cate in cat:\n",
    "    path = os.path.join(datadir,cate)\n",
    "    class_num = cat.index(cate)\n",
    "    for img in os.listdir(path):\n",
    "        img_array = cv2.imread(os.path.join(path,img))\n",
    "        filter = np.array([[-1,-1,-1],[-1,9,-1],[-1,-1,-1]])\n",
    "        new_img = cv2.filter2D(img_array, -1, filter)\n",
    "        new_array = cv2.resize(new_img,(299,299))\n",
    "        new_array = cv2.cvtColor(new_array, cv2.COLOR_BGR2RGB)\n",
    "        training_data.append([new_array,class_num])\n",
    "random.shuffle(training_data) # shuffling the dataset \n",
    "X = []\n",
    "Y = []\n",
    "for features,labels in training_data:\n",
    "    X.append(features)\n",
    "    Y.append(labels)\n",
    "#saving the dataset as pickle file \n",
    "pickle_out = open(\"C:\\\\Users\\\\snsha\\\\Anaconda3\\\\anaconda\\\\envs\\\\tensor-flow\\\\Anomaly detection\\\\X_1.pickle\",\"wb\")\n",
    "pickle.dump(X, pickle_out)\n",
    "pickle_out.close()\n",
    "pickle_out = open(\"C:\\\\Users\\\\snsha\\\\Anaconda3\\\\anaconda\\\\envs\\\\tensor-flow\\\\Anomaly detection\\\\Y_1.pickle\",\"wb\")\n",
    "pickle.dump(Y, pickle_out)\n",
    "pickle_out.close()\n",
    "\n",
    "\n"
   ]
  },
  {
   "cell_type": "code",
   "execution_count": 6,
   "metadata": {
    "executionInfo": {
     "elapsed": 10209,
     "status": "ok",
     "timestamp": 1606207355044,
     "user": {
      "displayName": "S.N Shashank",
      "photoUrl": "",
      "userId": "18095843714123599333"
     },
     "user_tz": -330
    },
    "id": "A6QazCLqTaDP"
   },
   "outputs": [],
   "source": [
    "if os.path.getsize(\"C:\\\\Users\\\\snsha\\\\Anaconda3\\\\anaconda\\\\envs\\\\tensor-flow\\\\Anomaly detection\\\\X_1.pickle\") > 0:\n",
    "    with open(\"C:\\\\Users\\\\snsha\\\\Anaconda3\\\\anaconda\\\\envs\\\\tensor-flow\\\\Anomaly detection\\X_1.pickle\",\"rb\") as f:\n",
    "        unpickler = pickle.Unpickler(f)\n",
    "        X = unpickler.load()\n",
    "    with open(\"C:\\\\Users\\\\snsha\\\\Anaconda3\\\\anaconda\\\\envs\\\\tensor-flow\\\\Anomaly detection\\\\Y_1.pickle\",\"rb\") as f:\n",
    "        unpickler = pickle.Unpickler(f)\n",
    "        Y = unpickler.load()\n",
    "\n",
    "#slpitting images into test and train sets\n",
    "x_train_orig, x_test_orig, y_train_orig, y_test_orig = train_test_split(X, Y, test_size=0.15, random_state=1)\n",
    "x_train = np.array(x_train_orig)\n",
    "x_test = np.array(x_test_orig)\n",
    "y_train = np.array(y_train_orig)\n",
    "y_test = np.array(y_test_orig)"
   ]
  },
  {
   "cell_type": "code",
   "execution_count": null,
   "metadata": {
    "executionInfo": {
     "elapsed": 2174,
     "status": "ok",
     "timestamp": 1606145015054,
     "user": {
      "displayName": "S.N Shashank",
      "photoUrl": "",
      "userId": "18095843714123599333"
     },
     "user_tz": -330
    },
    "id": "lFlmT560s8AM"
   },
   "outputs": [],
   "source": []
  },
  {
   "cell_type": "code",
   "execution_count": 9,
   "metadata": {
    "executionInfo": {
     "elapsed": 1879,
     "status": "ok",
     "timestamp": 1606191246751,
     "user": {
      "displayName": "S.N Shashank",
      "photoUrl": "",
      "userId": "18095843714123599333"
     },
     "user_tz": -330
    },
    "id": "03nWGDLIL6wG"
   },
   "outputs": [],
   "source": [
    "lb = LabelBinarizer()\n",
    "y_train = lb.fit_transform(y_train)\n",
    "y_test = lb.fit_transform(y_test)\n",
    "\n"
   ]
  },
  {
   "cell_type": "code",
   "execution_count": 5,
   "metadata": {
    "executionInfo": {
     "elapsed": 1293,
     "status": "ok",
     "timestamp": 1606149462068,
     "user": {
      "displayName": "S.N Shashank",
      "photoUrl": "",
      "userId": "18095843714123599333"
     },
     "user_tz": -330
    },
    "id": "g4MjlfYpL6wO"
   },
   "outputs": [],
   "source": [
    "train_aug = ImageDataGenerator(\n",
    "    rescale=1./255,\n",
    "    rotation_range=30,\n",
    "    zoom_range=0.15,\n",
    "    width_shift_range=0.2,\n",
    "    height_shift_range=0.2,\n",
    "    shear_range=0.15,\n",
    "    horizontal_flip=True,\n",
    "    fill_mode=\"nearest\")\n",
    "\n",
    "val_aug = ImageDataGenerator(rescale=1./255,fill_mode=\"nearest\")\n"
   ]
  },
  {
   "cell_type": "code",
   "execution_count": 6,
   "metadata": {
    "id": "s_zZTrmbL6wR"
   },
   "outputs": [],
   "source": []
  },
  {
   "cell_type": "code",
   "execution_count": 7,
   "metadata": {
    "colab": {
     "base_uri": "https://localhost:8080/"
    },
    "executionInfo": {
     "elapsed": 8476,
     "status": "ok",
     "timestamp": 1606149472612,
     "user": {
      "displayName": "S.N Shashank",
      "photoUrl": "",
      "userId": "18095843714123599333"
     },
     "user_tz": -330
    },
    "id": "c5LAr54nL6wV",
    "outputId": "1a119c40-40bf-442b-e9c0-5fb6353b9ba6"
   },
   "outputs": [],
   "source": [
    "preModel = Xception(weights=\"imagenet\", include_top=False, input_tensor=Input(shape=(299, 299, 3)))\n",
    "preModel.trainable = False"
   ]
  },
  {
   "cell_type": "code",
   "execution_count": 8,
   "metadata": {
    "executionInfo": {
     "elapsed": 1299,
     "status": "ok",
     "timestamp": 1606151441084,
     "user": {
      "displayName": "S.N Shashank",
      "photoUrl": "",
      "userId": "18095843714123599333"
     },
     "user_tz": -330
    },
    "id": "dwHq3UXkL6wY"
   },
   "outputs": [],
   "source": [
    "\n",
    "headModel = preModel.output\n",
    "headModel = AveragePooling2D(pool_size=(7, 7))(headModel)\n",
    "headModel = BatchNormalization(axis=1)(headModel)\n",
    "headModel = Flatten(name=\"flatten\")(headModel)\n",
    "headModel = BatchNormalization(axis=1)(headModel)\n",
    "headModel = Dense(512, activation=\"relu\")(headModel)\n",
    "headModel = BatchNormalization(axis=1)(headModel)\n",
    "headModel = Dropout(0.5)(headModel)\n",
    "headModel = Dense(256, activation=\"relu\")(headModel)\n",
    "headModel = BatchNormalization(axis=1)(headModel)\n",
    "headModel = Dropout(0.3)(headModel)\n",
    "headModel = Dense(128, activation=\"relu\")(headModel)\n",
    "headModel = BatchNormalization(axis=1)(headModel)\n",
    "#headModel = Dropout(0.3)(headModel)\n",
    "headModel = Dense(1, activation=\"sigmoid\")(headModel)\n",
    "  \n"
   ]
  },
  {
   "cell_type": "code",
   "execution_count": 9,
   "metadata": {
    "executionInfo": {
     "elapsed": 1262,
     "status": "ok",
     "timestamp": 1606151444462,
     "user": {
      "displayName": "S.N Shashank",
      "photoUrl": "",
      "userId": "18095843714123599333"
     },
     "user_tz": -330
    },
    "id": "eIOHGIdOL6wc"
   },
   "outputs": [],
   "source": [
    "model = Model(inputs=preModel.input, outputs=headModel)\n",
    "#model.summary()"
   ]
  },
  {
   "cell_type": "code",
   "execution_count": 10,
   "metadata": {
    "executionInfo": {
     "elapsed": 1082,
     "status": "ok",
     "timestamp": 1606151446001,
     "user": {
      "displayName": "S.N Shashank",
      "photoUrl": "",
      "userId": "18095843714123599333"
     },
     "user_tz": -330
    },
    "id": "VyY9A-6SL6wf"
   },
   "outputs": [],
   "source": [
    "opt = Adam(lr=1e-3)\n",
    "model.compile(loss=\"binary_crossentropy\", optimizer=opt,metrics=[\"accuracy\"])"
   ]
  },
  {
   "cell_type": "code",
   "execution_count": null,
   "metadata": {
    "id": "vwH9fLbPVTlz"
   },
   "outputs": [],
   "source": []
  },
  {
   "cell_type": "code",
   "execution_count": 11,
   "metadata": {
    "colab": {
     "base_uri": "https://localhost:8080/"
    },
    "executionInfo": {
     "elapsed": 903194,
     "status": "ok",
     "timestamp": 1606152350025,
     "user": {
      "displayName": "S.N Shashank",
      "photoUrl": "",
      "userId": "18095843714123599333"
     },
     "user_tz": -330
    },
    "id": "amVbeSBiL6wl",
    "outputId": "169f4b92-f15c-4c3c-fe9d-66f6db8e1895"
   },
   "outputs": [
    {
     "name": "stdout",
     "output_type": "stream",
     "text": [
      "WARNING:tensorflow:sample_weight modes were coerced from\n",
      "  ...\n",
      "    to  \n",
      "  ['...']\n",
      "WARNING:tensorflow:sample_weight modes were coerced from\n",
      "  ...\n",
      "    to  \n",
      "  ['...']\n",
      "Train for 45 steps, validate for 7 steps\n",
      "Epoch 1/30\n",
      "45/45 [==============================] - 60s 1s/step - loss: 0.4583 - accuracy: 0.7898 - val_loss: 0.4176 - val_accuracy: 0.7946\n",
      "Epoch 2/30\n",
      "45/45 [==============================] - 32s 709ms/step - loss: 0.3150 - accuracy: 0.8719 - val_loss: 0.2832 - val_accuracy: 0.9152\n",
      "Epoch 3/30\n",
      "45/45 [==============================] - 32s 712ms/step - loss: 0.2939 - accuracy: 0.8726 - val_loss: 0.2087 - val_accuracy: 0.9464\n",
      "Epoch 4/30\n",
      "45/45 [==============================] - 32s 711ms/step - loss: 0.2349 - accuracy: 0.9108 - val_loss: 0.1722 - val_accuracy: 0.9598\n",
      "Epoch 5/30\n",
      "45/45 [==============================] - 32s 711ms/step - loss: 0.2250 - accuracy: 0.8938 - val_loss: 0.1366 - val_accuracy: 0.9554\n",
      "Epoch 6/30\n",
      "45/45 [==============================] - 32s 711ms/step - loss: 0.1961 - accuracy: 0.9200 - val_loss: 0.1513 - val_accuracy: 0.9509\n",
      "Epoch 7/30\n",
      "45/45 [==============================] - 33s 723ms/step - loss: 0.1842 - accuracy: 0.9201 - val_loss: 0.1629 - val_accuracy: 0.9420\n",
      "Epoch 8/30\n",
      "45/45 [==============================] - 32s 711ms/step - loss: 0.1687 - accuracy: 0.9335 - val_loss: 0.1442 - val_accuracy: 0.9420\n",
      "Epoch 9/30\n",
      "45/45 [==============================] - 32s 712ms/step - loss: 0.1729 - accuracy: 0.9314 - val_loss: 0.1433 - val_accuracy: 0.9464\n",
      "Epoch 10/30\n",
      "45/45 [==============================] - 32s 712ms/step - loss: 0.1705 - accuracy: 0.9314 - val_loss: 0.1607 - val_accuracy: 0.9241\n",
      "Epoch 11/30\n",
      "45/45 [==============================] - 32s 711ms/step - loss: 0.1336 - accuracy: 0.9483 - val_loss: 0.1189 - val_accuracy: 0.9509\n",
      "Epoch 12/30\n",
      "45/45 [==============================] - 32s 712ms/step - loss: 0.1624 - accuracy: 0.9328 - val_loss: 0.1847 - val_accuracy: 0.9330\n",
      "Epoch 13/30\n",
      "45/45 [==============================] - 32s 712ms/step - loss: 0.1545 - accuracy: 0.9406 - val_loss: 0.1520 - val_accuracy: 0.9241\n",
      "Epoch 14/30\n",
      "45/45 [==============================] - 32s 712ms/step - loss: 0.1633 - accuracy: 0.9370 - val_loss: 0.1551 - val_accuracy: 0.9420\n",
      "Epoch 15/30\n",
      "45/45 [==============================] - 32s 712ms/step - loss: 0.1591 - accuracy: 0.9398 - val_loss: 0.1547 - val_accuracy: 0.9375\n",
      "Epoch 16/30\n",
      "45/45 [==============================] - 32s 712ms/step - loss: 0.1381 - accuracy: 0.9498 - val_loss: 0.1072 - val_accuracy: 0.9554\n",
      "Epoch 17/30\n",
      "45/45 [==============================] - 32s 712ms/step - loss: 0.1170 - accuracy: 0.9568 - val_loss: 0.1245 - val_accuracy: 0.9598\n",
      "Epoch 18/30\n",
      "45/45 [==============================] - 32s 712ms/step - loss: 0.1290 - accuracy: 0.9512 - val_loss: 0.1062 - val_accuracy: 0.9554\n",
      "Epoch 19/30\n",
      "45/45 [==============================] - 32s 713ms/step - loss: 0.0994 - accuracy: 0.9625 - val_loss: 0.0955 - val_accuracy: 0.9643\n",
      "Epoch 20/30\n",
      "45/45 [==============================] - 32s 713ms/step - loss: 0.1185 - accuracy: 0.9526 - val_loss: 0.0754 - val_accuracy: 0.9732\n",
      "Epoch 21/30\n",
      "45/45 [==============================] - 33s 724ms/step - loss: 0.1177 - accuracy: 0.9604 - val_loss: 0.1095 - val_accuracy: 0.9420\n",
      "Epoch 22/30\n",
      "45/45 [==============================] - 32s 712ms/step - loss: 0.1262 - accuracy: 0.9547 - val_loss: 0.0740 - val_accuracy: 0.9643\n",
      "Epoch 23/30\n",
      "45/45 [==============================] - 32s 712ms/step - loss: 0.1125 - accuracy: 0.9554 - val_loss: 0.0862 - val_accuracy: 0.9643\n",
      "Epoch 24/30\n",
      "45/45 [==============================] - 32s 713ms/step - loss: 0.1105 - accuracy: 0.9611 - val_loss: 0.0803 - val_accuracy: 0.9643\n",
      "Epoch 25/30\n",
      "45/45 [==============================] - 32s 713ms/step - loss: 0.0917 - accuracy: 0.9639 - val_loss: 0.0691 - val_accuracy: 0.9866\n",
      "Epoch 26/30\n",
      "45/45 [==============================] - 32s 713ms/step - loss: 0.0924 - accuracy: 0.9660 - val_loss: 0.0863 - val_accuracy: 0.9732\n",
      "Epoch 27/30\n",
      "45/45 [==============================] - 32s 712ms/step - loss: 0.1015 - accuracy: 0.9597 - val_loss: 0.1019 - val_accuracy: 0.9688\n",
      "Epoch 28/30\n",
      "45/45 [==============================] - 33s 724ms/step - loss: 0.0929 - accuracy: 0.9583 - val_loss: 0.0784 - val_accuracy: 0.9732\n",
      "Epoch 29/30\n",
      "45/45 [==============================] - 32s 713ms/step - loss: 0.1131 - accuracy: 0.9547 - val_loss: 0.0708 - val_accuracy: 0.9732\n",
      "Epoch 30/30\n",
      "45/45 [==============================] - 32s 713ms/step - loss: 0.0907 - accuracy: 0.9625 - val_loss: 0.0582 - val_accuracy: 0.9821\n"
     ]
    }
   ],
   "source": [
    "trained_model = model.fit(\n",
    "    x = train_aug.flow(x_train, y_train, batch_size=32),\n",
    "    steps_per_epoch=len(x_train) // 32,\n",
    "    validation_data=val_aug.flow(x_test, y_test),\n",
    "    validation_steps=len(x_test) // 32,\n",
    "    epochs=30)"
   ]
  },
  {
   "cell_type": "code",
   "execution_count": null,
   "metadata": {
    "colab": {
     "base_uri": "https://localhost:8080/"
    },
    "executionInfo": {
     "elapsed": 1298,
     "status": "ok",
     "timestamp": 1606128321825,
     "user": {
      "displayName": "S.N Shashank",
      "photoUrl": "",
      "userId": "18095843714123599333"
     },
     "user_tz": -330
    },
    "id": "PLlT1Dn4bbi8",
    "outputId": "80cd1c02-ea31-4564-b5c4-5d328d1c4e68"
   },
   "outputs": [],
   "source": []
  },
  {
   "cell_type": "code",
   "execution_count": null,
   "metadata": {
    "colab": {
     "base_uri": "https://localhost:8080/",
     "height": 212
    },
    "executionInfo": {
     "elapsed": 3216,
     "status": "error",
     "timestamp": 1606128139439,
     "user": {
      "displayName": "S.N Shashank",
      "photoUrl": "",
      "userId": "18095843714123599333"
     },
     "user_tz": -330
    },
    "id": "fA2-r1ZixFFU",
    "outputId": "dbd6e20b-081f-46d2-a093-79137fdcbce8"
   },
   "outputs": [],
   "source": [
    "preModel.trainable = True\n",
    "for layer in preModel.layers[112:]:\n",
    "    layer.trainable = True"
   ]
  },
  {
   "cell_type": "code",
   "execution_count": null,
   "metadata": {
    "colab": {
     "base_uri": "https://localhost:8080/",
     "height": 178
    },
    "executionInfo": {
     "elapsed": 1231,
     "status": "error",
     "timestamp": 1606128334103,
     "user": {
      "displayName": "S.N Shashank",
      "photoUrl": "",
      "userId": "18095843714123599333"
     },
     "user_tz": -330
    },
    "id": "gkdd4VOpxFdU",
    "outputId": "aa95ab16-3e09-4420-bfb9-6167bff476c1"
   },
   "outputs": [],
   "source": [
    "opt = Adam(lr=1e-4)\n",
    "model.compile(loss=\"binary_crossentropy\", optimizer=opt,metrics=[\"accuracy\"])"
   ]
  },
  {
   "cell_type": "code",
   "execution_count": null,
   "metadata": {
    "colab": {
     "base_uri": "https://localhost:8080/"
    },
    "id": "Ar8EtMGExEwl",
    "outputId": "94a39356-2776-4b24-e582-f3e5543cfc55"
   },
   "outputs": [],
   "source": [
    "fine_tune = 10\n",
    "total = 30\n",
    "hist = model.fit(\n",
    "    x = train_aug.flow(x_train, y_train, batch_size=32),\n",
    "    steps_per_epoch=len(x_train) // 32,\n",
    "    validation_data=val_aug.flow(x_test, y_test),\n",
    "    validation_steps=len(x_test) // 32,\n",
    "    epochs=total,\n",
    "    initial_epoch = 20)"
   ]
  },
  {
   "cell_type": "code",
   "execution_count": null,
   "metadata": {
    "colab": {
     "base_uri": "https://localhost:8080/"
    },
    "executionInfo": {
     "elapsed": 1319,
     "status": "ok",
     "timestamp": 1606125202795,
     "user": {
      "displayName": "S.N Shashank",
      "photoUrl": "",
      "userId": "18095843714123599333"
     },
     "user_tz": -330
    },
    "id": "_LZrDSRFNfU1",
    "outputId": "acdacad1-a0c9-423d-f6a0-343cf8a06f07"
   },
   "outputs": [],
   "source": []
  },
  {
   "cell_type": "code",
   "execution_count": 12,
   "metadata": {
    "colab": {
     "base_uri": "https://localhost:8080/"
    },
    "executionInfo": {
     "elapsed": 4081,
     "status": "ok",
     "timestamp": 1606150988461,
     "user": {
      "displayName": "S.N Shashank",
      "photoUrl": "",
      "userId": "18095843714123599333"
     },
     "user_tz": -330
    },
    "id": "9BdbItMJKTwg",
    "outputId": "5e65900e-96f5-4974-8ad7-920c576a9c35"
   },
   "outputs": [
    {
     "name": "stdout",
     "output_type": "stream",
     "text": [
      "255/255 [==============================] - 8s 31ms/sample - loss: 0.0789 - accuracy: 0.9765\n"
     ]
    },
    {
     "data": {
      "text/plain": [
       "[0.07886280844024583, 0.9764706]"
      ]
     },
     "execution_count": 12,
     "metadata": {},
     "output_type": "execute_result"
    }
   ],
   "source": [
    "X_test = x_test/255.0\n",
    "model.evaluate(X_test, y_test)"
   ]
  },
  {
   "cell_type": "code",
   "execution_count": null,
   "metadata": {
    "colab": {
     "base_uri": "https://localhost:8080/",
     "height": 274
    },
    "executionInfo": {
     "elapsed": 2643,
     "status": "ok",
     "timestamp": 1606151018341,
     "user": {
      "displayName": "S.N Shashank",
      "photoUrl": "",
      "userId": "18095843714123599333"
     },
     "user_tz": -330
    },
    "id": "HfqngMAd6tf-",
    "outputId": "8af5c8a9-dffe-4f5d-eef3-7297b24971c1"
   },
   "outputs": [],
   "source": []
  },
  {
   "cell_type": "code",
   "execution_count": 24,
   "metadata": {
    "colab": {
     "base_uri": "https://localhost:8080/",
     "height": 316
    },
    "executionInfo": {
     "elapsed": 2306,
     "status": "ok",
     "timestamp": 1606151026272,
     "user": {
      "displayName": "S.N Shashank",
      "photoUrl": "",
      "userId": "18095843714123599333"
     },
     "user_tz": -330
    },
    "id": "kNq5C7gKcqDP",
    "outputId": "24ee1375-4596-41db-d5df-9d34e3d1f3d5"
   },
   "outputs": [
    {
     "data": {
      "text/plain": [
       "<matplotlib.legend.Legend at 0x1b6265f5c08>"
      ]
     },
     "execution_count": 24,
     "metadata": {},
     "output_type": "execute_result"
    },
    {
     "data": {
      "image/png": "[encoded data removed]",
      "text/plain": [
       "<Figure size 432x288 with 1 Axes>"
      ]
     },
     "metadata": {},
     "output_type": "display_data"
    }
   ],
   "source": [
    "N = 30\n",
    "plt.style.use(\"ggplot\")\n",
    "plt.figure()\n",
    "plt.plot(np.arange(0, N), trained_model.history[\"loss\"], label=\"train_loss\")\n",
    "plt.plot(np.arange(0, N), trained_model.history[\"val_loss\"], label=\"val_loss\")\n",
    "plt.plot(np.arange(0, N), trained_model.history[\"accuracy\"], label=\"train_acc\")\n",
    "plt.plot(np.arange(0, N), trained_model.history[\"val_accuracy\"], label=\"val_acc\")\n",
    "plt.title(\"Training Loss and Accuracy on Dataset\")\n",
    "plt.xlabel(\"Epoch #\")\n",
    "plt.ylabel(\"Loss/Accuracy\")\n",
    "plt.legend(loc=\"lower left\")\n"
   ]
  },
  {
   "cell_type": "code",
   "execution_count": null,
   "metadata": {
    "colab": {
     "base_uri": "https://localhost:8080/",
     "height": 316
    },
    "executionInfo": {
     "elapsed": 1526,
     "status": "ok",
     "timestamp": 1606122611288,
     "user": {
      "displayName": "S.N Shashank",
      "photoUrl": "",
      "userId": "18095843714123599333"
     },
     "user_tz": -330
    },
    "id": "YD2O_H9KrVgz",
    "outputId": "b1d16349-93ea-4d01-c9ab-c41109e0197d"
   },
   "outputs": [],
   "source": []
  },
  {
   "cell_type": "code",
   "execution_count": 3,
   "metadata": {
    "executionInfo": {
     "elapsed": 1535,
     "status": "ok",
     "timestamp": 1606152786395,
     "user": {
      "displayName": "S.N Shashank",
      "photoUrl": "",
      "userId": "18095843714123599333"
     },
     "user_tz": -330
    },
    "id": "bhYks4Jw5E5a"
   },
   "outputs": [
    {
     "ename": "NameError",
     "evalue": "name 'model' is not defined",
     "output_type": "error",
     "traceback": [
      "\u001b[1;31m---------------------------------------------------------------------------\u001b[0m",
      "\u001b[1;31mNameError\u001b[0m                                 Traceback (most recent call last)",
      "\u001b[1;32m<ipython-input-3-53ab39760401>\u001b[0m in \u001b[0;36m<module>\u001b[1;34m\u001b[0m\n\u001b[1;32m----> 1\u001b[1;33m \u001b[0mmodel\u001b[0m\u001b[1;33m.\u001b[0m\u001b[0msave\u001b[0m\u001b[1;33m(\u001b[0m\u001b[1;34m\"anomalydetection_Xception_new.h5\"\u001b[0m\u001b[1;33m)\u001b[0m\u001b[1;33m\u001b[0m\u001b[1;33m\u001b[0m\u001b[0m\n\u001b[0m",
      "\u001b[1;31mNameError\u001b[0m: name 'model' is not defined"
     ]
    }
   ],
   "source": [
    "model.save(\"anomalydetection_Xception_new.h5\")"
   ]
  },
  {
   "cell_type": "code",
   "execution_count": 12,
   "metadata": {
    "executionInfo": {
     "elapsed": 2410,
     "status": "ok",
     "timestamp": 1606193934976,
     "user": {
      "displayName": "S.N Shashank",
      "photoUrl": "",
      "userId": "18095843714123599333"
     },
     "user_tz": -330
    },
    "id": "egSLl_zbv_ps"
   },
   "outputs": [],
   "source": [
    "loaded_model = keras.models.load_model('anomalydetection_Xception_new.h5')\n",
    "#loaded_model.summary()\n"
   ]
  },
  {
   "cell_type": "code",
   "execution_count": 13,
   "metadata": {
    "executionInfo": {
     "elapsed": 1242,
     "status": "ok",
     "timestamp": 1606151076393,
     "user": {
      "displayName": "S.N Shashank",
      "photoUrl": "",
      "userId": "18095843714123599333"
     },
     "user_tz": -330
    },
    "id": "-6FsfxsajGno"
   },
   "outputs": [],
   "source": [
    "from collections import deque\n"
   ]
  },
  {
   "cell_type": "code",
   "execution_count": 23,
   "metadata": {
    "executionInfo": {
     "elapsed": 1413,
     "status": "ok",
     "timestamp": 1606153078390,
     "user": {
      "displayName": "S.N Shashank",
      "photoUrl": "",
      "userId": "18095843714123599333"
     },
     "user_tz": -330
    },
    "id": "XSpcZqNufSIY"
   },
   "outputs": [],
   "source": [
    "Q = deque(maxlen=64)"
   ]
  },
  {
   "cell_type": "code",
   "execution_count": 20,
   "metadata": {
    "colab": {
     "base_uri": "https://localhost:8080/",
     "height": 229
    },
    "executionInfo": {
     "elapsed": 1090,
     "status": "error",
     "timestamp": 1606192065784,
     "user": {
      "displayName": "S.N Shashank",
      "photoUrl": "",
      "userId": "18095843714123599333"
     },
     "user_tz": -330
    },
    "id": "4961Rt13-a_7",
    "outputId": "243529c5-1418-4637-f7da-3919dfbb7fda"
   },
   "outputs": [],
   "source": [
    "vs = cv2.VideoCapture(\"C:\\\\Users\\\\snsha\\\\Anaconda3\\\\anaconda\\\\envs\\\\tensor-flow\\\\Anomaly detection\\\\test_video.mp4\")\n",
    "#vs = cv2.VideoCapture(0)\n",
    "writer = None\n",
    "(W, H) = (None, None)\n",
    "label = None\n",
    "output_path = 'result_xcep_new_3.mp4'\n",
    "while True:\n",
    "    (grabbed, frame) = vs.read()\n",
    "    if not grabbed:\n",
    "        break\n",
    "    if W is None or H is None:\n",
    "        (H, W) = frame.shape[:2]\n",
    "        h = int(H)\n",
    "        w = int(W)\n",
    "    output = frame.copy()\n",
    "    frame = cv2.cvtColor(frame, cv2.COLOR_BGR2RGB)\n",
    "    frame = cv2.resize(frame, (299,299)).astype(\"float32\")\n",
    "    frame = frame/255.0\n",
    "    preds = loaded_model.predict(np.expand_dims(frame, axis=0))[0]\n",
    "    Q.append(preds)\n",
    "    \n",
    "    results = np.array(Q).mean(axis=0)\n",
    "    if results[0] >= 0.5:\n",
    "        label = \"Violent\"\n",
    "        text = \"{} activity\".format(label)\n",
    "        cv2.putText(output, text, (35, 50), cv2.FONT_HERSHEY_SIMPLEX, 1.25, (0, 0, 255), 5)\n",
    "    else:\n",
    "        label = \"Non-Violent\"\n",
    "        text = \"{} activity\".format(label)\n",
    "        cv2.putText(output, text, (35, 50), cv2.FONT_HERSHEY_SIMPLEX, 1.25, (0, 255, 0), 5)\n",
    "    if writer is None:\n",
    "        writer = cv2.VideoWriter(output_path, cv2.VideoWriter_fourcc(*'XIVD'), 30, (w, h), True)\n",
    "    writer.write(output)\n",
    "    cv2.imshow(\"window\",output)\n",
    "    key = cv2.waitKey(1) & 0xFF\n",
    "    if key == 27:\n",
    "        break\n",
    "writer.release()\n",
    "cv2.destroyAllWindows() "
   ]
  },
  {
   "cell_type": "code",
   "execution_count": null,
   "metadata": {},
   "outputs": [],
   "source": []
  },
  {
   "cell_type": "code",
   "execution_count": null,
   "metadata": {},
   "outputs": [],
   "source": []
  },
  {
   "cell_type": "code",
   "execution_count": null,
   "metadata": {},
   "outputs": [],
   "source": []
  },
  {
   "cell_type": "code",
   "execution_count": 21,
   "metadata": {
    "id": "ftGPQOHhlcJZ"
   },
   "outputs": [],
   "source": [
    "from datetime import datetime\n",
    "import pandas as pd"
   ]
  },
  {
   "cell_type": "code",
   "execution_count": null,
   "metadata": {},
   "outputs": [],
   "source": []
  },
  {
   "cell_type": "code",
   "execution_count": 22,
   "metadata": {},
   "outputs": [],
   "source": [
    "df = pd.DataFrame(columns=[\"Start\",\"End\"])\n"
   ]
  },
  {
   "cell_type": "code",
   "execution_count": 35,
   "metadata": {},
   "outputs": [
    {
     "name": "stdout",
     "output_type": "stream",
     "text": [
      "[0, 1]\n",
      "[1, 0]\n",
      "[datetime.datetime(2020, 12, 10, 12, 4, 44, 388151), datetime.datetime(2020, 12, 10, 12, 4, 56, 761840)]\n"
     ]
    }
   ],
   "source": [
    "#to print into csv\n",
    "vs = cv2.VideoCapture(\"C:\\\\Users\\\\snsha\\\\Anaconda3\\\\anaconda\\\\envs\\\\tensor-flow\\\\Anomaly detection\\\\test_video.mp4\")\n",
    "#vs = cv2.VideoCapture(0)\n",
    "writer = None\n",
    "(W, H) = (None, None)\n",
    "label = \"Non-violent\"\n",
    "status_list = [None,None]\n",
    "time = []\n",
    "while True:\n",
    "    status = 0\n",
    "    (grabbed, frame) = vs.read()\n",
    "    if not grabbed:\n",
    "        break\n",
    "    frame_ori = cv2.cvtColor(frame, cv2.COLOR_BGR2RGB)\n",
    "    frame_re = cv2.resize(frame_ori, (299,299)).astype(\"float32\")\n",
    "    frame_norm = frame_re/255.0\n",
    "    preds = loaded_model.predict(np.expand_dims(frame_norm, axis=0))[0]\n",
    "    Q.append(preds)\n",
    "    results = np.array(Q).mean(axis=0)\n",
    "    if results[0] >= 0.5:\n",
    "        label = \"Violent\"\n",
    "        status = 1\n",
    "                               \n",
    "    else:\n",
    "        label = \"NOn-violent\"\n",
    "    status_list.append(status)\n",
    "    status_list= status_list[-2:]\n",
    "    if status_list[-1] == 1 and status_list[-2] == 0:\n",
    "        time.append(datetime.now())\n",
    "        print(status_list)\n",
    "    elif status_list[-1]== 0 and status_list[-2] == 1:\n",
    "        time.append(datetime.now())\n",
    "        print(status_list)\n",
    "      \n",
    "    cv2.imshow(\"window\",frame)\n",
    "    key = cv2.waitKey(1) & 0xFF\n",
    "    if key == ord(\"q\"):\n",
    "        break\n",
    "for i in range(0,len(time),2):\n",
    "    df = df.append({\"Start\":time[i],\"End\":time[i+1]},ignore_index = True)\n",
    "print(time)\n",
    "df.to_csv(\"report.csv\")\n",
    "vs.release()\n",
    "cv2.destroyAllWindows() "
   ]
  },
  {
   "cell_type": "code",
   "execution_count": 36,
   "metadata": {},
   "outputs": [
    {
     "data": {
      "text/html": [
       "<div>\n",
       "<style scoped>\n",
       "    .dataframe tbody tr th:only-of-type {\n",
       "        vertical-align: middle;\n",
       "    }\n",
       "\n",
       "    .dataframe tbody tr th {\n",
       "        vertical-align: top;\n",
       "    }\n",
       "\n",
       "    .dataframe thead th {\n",
       "        text-align: right;\n",
       "    }\n",
       "</style>\n",
       "<table border=\"1\" class=\"dataframe\">\n",
       "  <thead>\n",
       "    <tr style=\"text-align: right;\">\n",
       "      <th></th>\n",
       "      <th>Start</th>\n",
       "      <th>End</th>\n",
       "    </tr>\n",
       "  </thead>\n",
       "  <tbody>\n",
       "    <tr>\n",
       "      <th>0</th>\n",
       "      <td>2020-12-10 11:43:52.458018</td>\n",
       "      <td>2020-12-10 11:44:04.494638</td>\n",
       "    </tr>\n",
       "    <tr>\n",
       "      <th>1</th>\n",
       "      <td>2020-12-10 12:04:44.388151</td>\n",
       "      <td>2020-12-10 12:04:56.761840</td>\n",
       "    </tr>\n",
       "  </tbody>\n",
       "</table>\n",
       "</div>"
      ],
      "text/plain": [
       "                       Start                        End\n",
       "0 2020-12-10 11:43:52.458018 2020-12-10 11:44:04.494638\n",
       "1 2020-12-10 12:04:44.388151 2020-12-10 12:04:56.761840"
      ]
     },
     "execution_count": 36,
     "metadata": {},
     "output_type": "execute_result"
    }
   ],
   "source": [
    "df"
   ]
  },
  {
   "cell_type": "code",
   "execution_count": 1,
   "metadata": {},
   "outputs": [],
   "source": [
    "import pandas as pd"
   ]
  },
  {
   "cell_type": "code",
   "execution_count": 3,
   "metadata": {},
   "outputs": [],
   "source": [
    "file = pd.read_csv(\"report.csv\")"
   ]
  },
  {
   "cell_type": "code",
   "execution_count": 4,
   "metadata": {},
   "outputs": [
    {
     "name": "stdout",
     "output_type": "stream",
     "text": [
      "Empty DataFrame\n",
      "Columns: [Violent, 16:36:361:44]\n",
      "Index: []\n"
     ]
    }
   ],
   "source": [
    "print(file)"
   ]
  },
  {
   "cell_type": "code",
   "execution_count": 2,
   "metadata": {},
   "outputs": [],
   "source": [
    "df = pd.DataFrame(data = None)"
   ]
  },
  {
   "cell_type": "code",
   "execution_count": 3,
   "metadata": {},
   "outputs": [
    {
     "data": {
      "text/html": [
       "<div>\n",
       "<style scoped>\n",
       "    .dataframe tbody tr th:only-of-type {\n",
       "        vertical-align: middle;\n",
       "    }\n",
       "\n",
       "    .dataframe tbody tr th {\n",
       "        vertical-align: top;\n",
       "    }\n",
       "\n",
       "    .dataframe thead th {\n",
       "        text-align: right;\n",
       "    }\n",
       "</style>\n",
       "<table border=\"1\" class=\"dataframe\">\n",
       "  <thead>\n",
       "    <tr style=\"text-align: right;\">\n",
       "      <th></th>\n",
       "    </tr>\n",
       "  </thead>\n",
       "  <tbody>\n",
       "  </tbody>\n",
       "</table>\n",
       "</div>"
      ],
      "text/plain": [
       "Empty DataFrame\n",
       "Columns: []\n",
       "Index: []"
      ]
     },
     "execution_count": 3,
     "metadata": {},
     "output_type": "execute_result"
    }
   ],
   "source": [
    "df"
   ]
  },
  {
   "cell_type": "code",
   "execution_count": 4,
   "metadata": {},
   "outputs": [],
   "source": [
    "df.insert(0,\"Time\",\"\")\n",
    "df.insert(1,\"activity\",\"\")"
   ]
  },
  {
   "cell_type": "code",
   "execution_count": 5,
   "metadata": {},
   "outputs": [
    {
     "data": {
      "text/html": [
       "<div>\n",
       "<style scoped>\n",
       "    .dataframe tbody tr th:only-of-type {\n",
       "        vertical-align: middle;\n",
       "    }\n",
       "\n",
       "    .dataframe tbody tr th {\n",
       "        vertical-align: top;\n",
       "    }\n",
       "\n",
       "    .dataframe thead th {\n",
       "        text-align: right;\n",
       "    }\n",
       "</style>\n",
       "<table border=\"1\" class=\"dataframe\">\n",
       "  <thead>\n",
       "    <tr style=\"text-align: right;\">\n",
       "      <th></th>\n",
       "      <th>Time</th>\n",
       "      <th>activity</th>\n",
       "    </tr>\n",
       "  </thead>\n",
       "  <tbody>\n",
       "  </tbody>\n",
       "</table>\n",
       "</div>"
      ],
      "text/plain": [
       "Empty DataFrame\n",
       "Columns: [Time, activity]\n",
       "Index: []"
      ]
     },
     "execution_count": 5,
     "metadata": {},
     "output_type": "execute_result"
    }
   ],
   "source": [
    "df"
   ]
  },
  {
   "cell_type": "code",
   "execution_count": 12,
   "metadata": {},
   "outputs": [],
   "source": [
    "import time\n",
    "for i in range(10):\n",
    "    time.sleep(1)\n",
    "    df.loc[i,\"Time\"] = datetime.now()"
   ]
  },
  {
   "cell_type": "code",
   "execution_count": 13,
   "metadata": {},
   "outputs": [
    {
     "data": {
      "text/html": [
       "<div>\n",
       "<style scoped>\n",
       "    .dataframe tbody tr th:only-of-type {\n",
       "        vertical-align: middle;\n",
       "    }\n",
       "\n",
       "    .dataframe tbody tr th {\n",
       "        vertical-align: top;\n",
       "    }\n",
       "\n",
       "    .dataframe thead th {\n",
       "        text-align: right;\n",
       "    }\n",
       "</style>\n",
       "<table border=\"1\" class=\"dataframe\">\n",
       "  <thead>\n",
       "    <tr style=\"text-align: right;\">\n",
       "      <th></th>\n",
       "      <th>Time</th>\n",
       "      <th>activity</th>\n",
       "    </tr>\n",
       "  </thead>\n",
       "  <tbody>\n",
       "    <tr>\n",
       "      <th>0</th>\n",
       "      <td>2020-12-06 14:00:18.630860</td>\n",
       "      <td>NaN</td>\n",
       "    </tr>\n",
       "    <tr>\n",
       "      <th>1</th>\n",
       "      <td>2020-12-06 14:00:19.630989</td>\n",
       "      <td>NaN</td>\n",
       "    </tr>\n",
       "    <tr>\n",
       "      <th>2</th>\n",
       "      <td>2020-12-06 14:00:20.631608</td>\n",
       "      <td>NaN</td>\n",
       "    </tr>\n",
       "    <tr>\n",
       "      <th>3</th>\n",
       "      <td>2020-12-06 14:00:21.632338</td>\n",
       "      <td>NaN</td>\n",
       "    </tr>\n",
       "    <tr>\n",
       "      <th>4</th>\n",
       "      <td>2020-12-06 14:00:22.633569</td>\n",
       "      <td>NaN</td>\n",
       "    </tr>\n",
       "    <tr>\n",
       "      <th>...</th>\n",
       "      <td>...</td>\n",
       "      <td>...</td>\n",
       "    </tr>\n",
       "    <tr>\n",
       "      <th>95</th>\n",
       "      <td>2020-12-06 13:58:23.545126</td>\n",
       "      <td>NaN</td>\n",
       "    </tr>\n",
       "    <tr>\n",
       "      <th>96</th>\n",
       "      <td>2020-12-06 13:58:23.546123</td>\n",
       "      <td>NaN</td>\n",
       "    </tr>\n",
       "    <tr>\n",
       "      <th>97</th>\n",
       "      <td>2020-12-06 13:58:23.547215</td>\n",
       "      <td>NaN</td>\n",
       "    </tr>\n",
       "    <tr>\n",
       "      <th>98</th>\n",
       "      <td>2020-12-06 13:58:23.547215</td>\n",
       "      <td>NaN</td>\n",
       "    </tr>\n",
       "    <tr>\n",
       "      <th>99</th>\n",
       "      <td>2020-12-06 13:58:23.548117</td>\n",
       "      <td>NaN</td>\n",
       "    </tr>\n",
       "  </tbody>\n",
       "</table>\n",
       "<p>100 rows × 2 columns</p>\n",
       "</div>"
      ],
      "text/plain": [
       "                          Time activity\n",
       "0   2020-12-06 14:00:18.630860      NaN\n",
       "1   2020-12-06 14:00:19.630989      NaN\n",
       "2   2020-12-06 14:00:20.631608      NaN\n",
       "3   2020-12-06 14:00:21.632338      NaN\n",
       "4   2020-12-06 14:00:22.633569      NaN\n",
       "..                         ...      ...\n",
       "95  2020-12-06 13:58:23.545126      NaN\n",
       "96  2020-12-06 13:58:23.546123      NaN\n",
       "97  2020-12-06 13:58:23.547215      NaN\n",
       "98  2020-12-06 13:58:23.547215      NaN\n",
       "99  2020-12-06 13:58:23.548117      NaN\n",
       "\n",
       "[100 rows x 2 columns]"
      ]
     },
     "execution_count": 13,
     "metadata": {},
     "output_type": "execute_result"
    }
   ],
   "source": [
    "df"
   ]
  },
  {
   "cell_type": "code",
   "execution_count": 79,
   "metadata": {},
   "outputs": [],
   "source": [
    "df.loc[\"1\",\"Time\"]=datetime.now()"
   ]
  },
  {
   "cell_type": "code",
   "execution_count": 80,
   "metadata": {},
   "outputs": [
    {
     "data": {
      "text/html": [
       "<div>\n",
       "<style scoped>\n",
       "    .dataframe tbody tr th:only-of-type {\n",
       "        vertical-align: middle;\n",
       "    }\n",
       "\n",
       "    .dataframe tbody tr th {\n",
       "        vertical-align: top;\n",
       "    }\n",
       "\n",
       "    .dataframe thead th {\n",
       "        text-align: right;\n",
       "    }\n",
       "</style>\n",
       "<table border=\"1\" class=\"dataframe\">\n",
       "  <thead>\n",
       "    <tr style=\"text-align: right;\">\n",
       "      <th></th>\n",
       "      <th>Time</th>\n",
       "      <th>activity</th>\n",
       "    </tr>\n",
       "  </thead>\n",
       "  <tbody>\n",
       "    <tr>\n",
       "      <th>1</th>\n",
       "      <td>2020-12-06 13:14:13.404457</td>\n",
       "      <td>NaN</td>\n",
       "    </tr>\n",
       "  </tbody>\n",
       "</table>\n",
       "</div>"
      ],
      "text/plain": [
       "                         Time activity\n",
       "1  2020-12-06 13:14:13.404457      NaN"
      ]
     },
     "execution_count": 80,
     "metadata": {},
     "output_type": "execute_result"
    }
   ],
   "source": [
    "df"
   ]
  },
  {
   "cell_type": "code",
   "execution_count": 81,
   "metadata": {},
   "outputs": [],
   "source": [
    "df.loc[\"1\",\"activity\"] = \"Violent\""
   ]
  },
  {
   "cell_type": "code",
   "execution_count": 10,
   "metadata": {},
   "outputs": [],
   "source": [
    "df = pd.DataFrame(columns=[\"start\",\"End\"])"
   ]
  },
  {
   "cell_type": "code",
   "execution_count": 5,
   "metadata": {},
   "outputs": [
    {
     "data": {
      "text/plain": [
       "1"
      ]
     },
     "execution_count": 5,
     "metadata": {},
     "output_type": "execute_result"
    }
   ],
   "source": [
    "ls = []\n",
    "ls.append(0)\n",
    "ls.append(1)\n",
    "ls[-1]"
   ]
  },
  {
   "cell_type": "code",
   "execution_count": null,
   "metadata": {},
   "outputs": [],
   "source": [
    "for i in range(0,len(time),2):\n",
    "    df = df.append({\"Start\":time[i],\"End\":time[i+1]},ignore_index = True)"
   ]
  },
  {
   "cell_type": "code",
   "execution_count": 15,
   "metadata": {},
   "outputs": [],
   "source": [
    "status = [None,None]\n",
    "status.append(0)\n",
    "status.append(1)"
   ]
  },
  {
   "cell_type": "code",
   "execution_count": 16,
   "metadata": {},
   "outputs": [
    {
     "data": {
      "text/plain": [
       "[None, None, 0, 1]"
      ]
     },
     "execution_count": 16,
     "metadata": {},
     "output_type": "execute_result"
    }
   ],
   "source": [
    "status"
   ]
  },
  {
   "cell_type": "code",
   "execution_count": 17,
   "metadata": {},
   "outputs": [],
   "source": [
    "status = status[-2:]"
   ]
  },
  {
   "cell_type": "code",
   "execution_count": 18,
   "metadata": {},
   "outputs": [
    {
     "data": {
      "text/plain": [
       "[0, 1]"
      ]
     },
     "execution_count": 18,
     "metadata": {},
     "output_type": "execute_result"
    }
   ],
   "source": [
    "status\n"
   ]
  },
  {
   "cell_type": "code",
   "execution_count": null,
   "metadata": {},
   "outputs": [],
   "source": []
  }
 ],
 "metadata": {
  "accelerator": "GPU",
  "colab": {
   "collapsed_sections": [],
   "name": "Copy of Anomaly detection.ipynb",
   "provenance": [
    {
     "file_id": "1Wnw_yfEt2fj2C5wrWAIcuICWk5BYZwLs",
     "timestamp": 1605784880881
    }
   ]
  },
  "kernelspec": {
   "display_name": "tensor-flow",
   "language": "python",
   "name": "tensor-flow"
  },
  "language_info": {
   "codemirror_mode": {
    "name": "ipython",
    "version": 3
   },
   "file_extension": ".py",
   "mimetype": "text/x-python",
   "name": "python",
   "nbconvert_exporter": "python",
   "pygments_lexer": "ipython3",
   "version": "3.7.7"
  }
 },
 "nbformat": 4,
 "nbformat_minor": 1
}
